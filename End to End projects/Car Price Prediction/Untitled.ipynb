{
 "cells": [
  {
   "cell_type": "markdown",
   "metadata": {},
   "source": [
    "# Car Price Prediciton"
   ]
  },
  {
   "cell_type": "markdown",
   "metadata": {},
   "source": [
    "This dataset contains information about used cars.\n",
    "This data can be used for a lot of purposes such as price prediction to exemplify the use of linear regression in Machine Learning.\n",
    "The columns in the given dataset are as follows:\n",
    "\n",
    "- name\n",
    "- year\n",
    "- selling_price\n",
    "- km_driven\n",
    "- fuel\n",
    "- seller_type\n",
    "- transmission\n",
    "- Owner\n",
    "\n",
    "**Objective:** Predict the selling price of the car"
   ]
  },
  {
   "cell_type": "code",
   "execution_count": 1,
   "metadata": {},
   "outputs": [],
   "source": [
    "import pandas as pd\n",
    "import numpy as np\n",
    "import seaborn as sns\n",
    "import matplotlib.pyplot as plt\n",
    "%matplotlib inline"
   ]
  },
  {
   "cell_type": "code",
   "execution_count": 2,
   "metadata": {},
   "outputs": [
    {
     "data": {
      "text/html": [
       "<div>\n",
       "<style scoped>\n",
       "    .dataframe tbody tr th:only-of-type {\n",
       "        vertical-align: middle;\n",
       "    }\n",
       "\n",
       "    .dataframe tbody tr th {\n",
       "        vertical-align: top;\n",
       "    }\n",
       "\n",
       "    .dataframe thead th {\n",
       "        text-align: right;\n",
       "    }\n",
       "</style>\n",
       "<table border=\"1\" class=\"dataframe\">\n",
       "  <thead>\n",
       "    <tr style=\"text-align: right;\">\n",
       "      <th></th>\n",
       "      <th>Car_Name</th>\n",
       "      <th>Year</th>\n",
       "      <th>Selling_Price</th>\n",
       "      <th>Present_Price</th>\n",
       "      <th>Kms_Driven</th>\n",
       "      <th>Fuel_Type</th>\n",
       "      <th>Seller_Type</th>\n",
       "      <th>Transmission</th>\n",
       "      <th>Owner</th>\n",
       "    </tr>\n",
       "  </thead>\n",
       "  <tbody>\n",
       "    <tr>\n",
       "      <th>0</th>\n",
       "      <td>ritz</td>\n",
       "      <td>2014</td>\n",
       "      <td>3.35</td>\n",
       "      <td>5.59</td>\n",
       "      <td>27000</td>\n",
       "      <td>Petrol</td>\n",
       "      <td>Dealer</td>\n",
       "      <td>Manual</td>\n",
       "      <td>0</td>\n",
       "    </tr>\n",
       "    <tr>\n",
       "      <th>1</th>\n",
       "      <td>sx4</td>\n",
       "      <td>2013</td>\n",
       "      <td>4.75</td>\n",
       "      <td>9.54</td>\n",
       "      <td>43000</td>\n",
       "      <td>Diesel</td>\n",
       "      <td>Dealer</td>\n",
       "      <td>Manual</td>\n",
       "      <td>0</td>\n",
       "    </tr>\n",
       "    <tr>\n",
       "      <th>2</th>\n",
       "      <td>ciaz</td>\n",
       "      <td>2017</td>\n",
       "      <td>7.25</td>\n",
       "      <td>9.85</td>\n",
       "      <td>6900</td>\n",
       "      <td>Petrol</td>\n",
       "      <td>Dealer</td>\n",
       "      <td>Manual</td>\n",
       "      <td>0</td>\n",
       "    </tr>\n",
       "    <tr>\n",
       "      <th>3</th>\n",
       "      <td>wagon r</td>\n",
       "      <td>2011</td>\n",
       "      <td>2.85</td>\n",
       "      <td>4.15</td>\n",
       "      <td>5200</td>\n",
       "      <td>Petrol</td>\n",
       "      <td>Dealer</td>\n",
       "      <td>Manual</td>\n",
       "      <td>0</td>\n",
       "    </tr>\n",
       "    <tr>\n",
       "      <th>4</th>\n",
       "      <td>swift</td>\n",
       "      <td>2014</td>\n",
       "      <td>4.60</td>\n",
       "      <td>6.87</td>\n",
       "      <td>42450</td>\n",
       "      <td>Diesel</td>\n",
       "      <td>Dealer</td>\n",
       "      <td>Manual</td>\n",
       "      <td>0</td>\n",
       "    </tr>\n",
       "  </tbody>\n",
       "</table>\n",
       "</div>"
      ],
      "text/plain": [
       "  Car_Name  Year  Selling_Price  Present_Price  Kms_Driven Fuel_Type  \\\n",
       "0     ritz  2014           3.35           5.59       27000    Petrol   \n",
       "1      sx4  2013           4.75           9.54       43000    Diesel   \n",
       "2     ciaz  2017           7.25           9.85        6900    Petrol   \n",
       "3  wagon r  2011           2.85           4.15        5200    Petrol   \n",
       "4    swift  2014           4.60           6.87       42450    Diesel   \n",
       "\n",
       "  Seller_Type Transmission  Owner  \n",
       "0      Dealer       Manual      0  \n",
       "1      Dealer       Manual      0  \n",
       "2      Dealer       Manual      0  \n",
       "3      Dealer       Manual      0  \n",
       "4      Dealer       Manual      0  "
      ]
     },
     "execution_count": 2,
     "metadata": {},
     "output_type": "execute_result"
    }
   ],
   "source": [
    "df = pd.read_csv('car data.csv')\n",
    "df.head(5)"
   ]
  },
  {
   "cell_type": "code",
   "execution_count": 3,
   "metadata": {},
   "outputs": [
    {
     "name": "stdout",
     "output_type": "stream",
     "text": [
      "<class 'pandas.core.frame.DataFrame'>\n",
      "RangeIndex: 301 entries, 0 to 300\n",
      "Data columns (total 9 columns):\n",
      " #   Column         Non-Null Count  Dtype  \n",
      "---  ------         --------------  -----  \n",
      " 0   Car_Name       301 non-null    object \n",
      " 1   Year           301 non-null    int64  \n",
      " 2   Selling_Price  301 non-null    float64\n",
      " 3   Present_Price  301 non-null    float64\n",
      " 4   Kms_Driven     301 non-null    int64  \n",
      " 5   Fuel_Type      301 non-null    object \n",
      " 6   Seller_Type    301 non-null    object \n",
      " 7   Transmission   301 non-null    object \n",
      " 8   Owner          301 non-null    int64  \n",
      "dtypes: float64(2), int64(3), object(4)\n",
      "memory usage: 21.3+ KB\n"
     ]
    }
   ],
   "source": [
    "df.info()"
   ]
  },
  {
   "cell_type": "code",
   "execution_count": 4,
   "metadata": {},
   "outputs": [
    {
     "data": {
      "text/plain": [
       "Car_Name         0\n",
       "Year             0\n",
       "Selling_Price    0\n",
       "Present_Price    0\n",
       "Kms_Driven       0\n",
       "Fuel_Type        0\n",
       "Seller_Type      0\n",
       "Transmission     0\n",
       "Owner            0\n",
       "dtype: int64"
      ]
     },
     "execution_count": 4,
     "metadata": {},
     "output_type": "execute_result"
    }
   ],
   "source": [
    "# checking for null values\n",
    "df.isnull().sum()"
   ]
  },
  {
   "cell_type": "code",
   "execution_count": 12,
   "metadata": {},
   "outputs": [
    {
     "name": "stdout",
     "output_type": "stream",
     "text": [
      "['ritz' 'sx4' 'ciaz' 'wagon r' 'swift' 'vitara brezza' 's cross'\n",
      " 'alto 800' 'ertiga' 'dzire' 'alto k10' 'ignis' '800' 'baleno' 'omni'\n",
      " 'fortuner' 'innova' 'corolla altis' 'etios cross' 'etios g' 'etios liva'\n",
      " 'corolla' 'etios gd' 'camry' 'land cruiser' 'Royal Enfield Thunder 500'\n",
      " 'UM Renegade Mojave' 'KTM RC200' 'Bajaj Dominar 400'\n",
      " 'Royal Enfield Classic 350' 'KTM RC390' 'Hyosung GT250R'\n",
      " 'Royal Enfield Thunder 350' 'KTM 390 Duke ' 'Mahindra Mojo XT300'\n",
      " 'Bajaj Pulsar RS200' 'Royal Enfield Bullet 350'\n",
      " 'Royal Enfield Classic 500' 'Bajaj Avenger 220' 'Bajaj Avenger 150'\n",
      " 'Honda CB Hornet 160R' 'Yamaha FZ S V 2.0' 'Yamaha FZ 16'\n",
      " 'TVS Apache RTR 160' 'Bajaj Pulsar 150' 'Honda CBR 150' 'Hero Extreme'\n",
      " 'Bajaj Avenger 220 dtsi' 'Bajaj Avenger 150 street' 'Yamaha FZ  v 2.0'\n",
      " 'Bajaj Pulsar  NS 200' 'Bajaj Pulsar 220 F' 'TVS Apache RTR 180'\n",
      " 'Hero Passion X pro' 'Bajaj Pulsar NS 200' 'Yamaha Fazer '\n",
      " 'Honda Activa 4G' 'TVS Sport ' 'Honda Dream Yuga '\n",
      " 'Bajaj Avenger Street 220' 'Hero Splender iSmart' 'Activa 3g'\n",
      " 'Hero Passion Pro' 'Honda CB Trigger' 'Yamaha FZ S '\n",
      " 'Bajaj Pulsar 135 LS' 'Activa 4g' 'Honda CB Unicorn'\n",
      " 'Hero Honda CBZ extreme' 'Honda Karizma' 'Honda Activa 125' 'TVS Jupyter'\n",
      " 'Hero Honda Passion Pro' 'Hero Splender Plus' 'Honda CB Shine'\n",
      " 'Bajaj Discover 100' 'Suzuki Access 125' 'TVS Wego' 'Honda CB twister'\n",
      " 'Hero Glamour' 'Hero Super Splendor' 'Bajaj Discover 125' 'Hero Hunk'\n",
      " 'Hero  Ignitor Disc' 'Hero  CBZ Xtreme' 'Bajaj  ct 100' 'i20' 'grand i10'\n",
      " 'i10' 'eon' 'xcent' 'elantra' 'creta' 'verna' 'city' 'brio' 'amaze'\n",
      " 'jazz']\n",
      "----------------------------------------------------------------------\n",
      "['Petrol' 'Diesel' 'CNG']\n",
      "----------------------------------------------------------------------\n",
      "['Dealer' 'Individual']\n",
      "----------------------------------------------------------------------\n",
      "['Manual' 'Automatic']\n",
      "----------------------------------------------------------------------\n"
     ]
    }
   ],
   "source": [
    "# checking for unique values of categorical features\n",
    "\n",
    "for column in df.columns:\n",
    "    #print(column)\n",
    "    \n",
    "    if df[column].dtypes == 'object':\n",
    "        \n",
    "        print(df[column].unique())\n",
    "        print('-'*70)"
   ]
  },
  {
   "cell_type": "code",
   "execution_count": 13,
   "metadata": {},
   "outputs": [],
   "source": [
    "# creating a new feature i.e age of the car\n",
    "\n",
    "df['Year old'] = df['Year'].apply(lambda x: 2021-x)"
   ]
  },
  {
   "cell_type": "code",
   "execution_count": 14,
   "metadata": {},
   "outputs": [
    {
     "data": {
      "text/html": [
       "<div>\n",
       "<style scoped>\n",
       "    .dataframe tbody tr th:only-of-type {\n",
       "        vertical-align: middle;\n",
       "    }\n",
       "\n",
       "    .dataframe tbody tr th {\n",
       "        vertical-align: top;\n",
       "    }\n",
       "\n",
       "    .dataframe thead th {\n",
       "        text-align: right;\n",
       "    }\n",
       "</style>\n",
       "<table border=\"1\" class=\"dataframe\">\n",
       "  <thead>\n",
       "    <tr style=\"text-align: right;\">\n",
       "      <th></th>\n",
       "      <th>Car_Name</th>\n",
       "      <th>Year</th>\n",
       "      <th>Selling_Price</th>\n",
       "      <th>Present_Price</th>\n",
       "      <th>Kms_Driven</th>\n",
       "      <th>Fuel_Type</th>\n",
       "      <th>Seller_Type</th>\n",
       "      <th>Transmission</th>\n",
       "      <th>Owner</th>\n",
       "      <th>Year old</th>\n",
       "    </tr>\n",
       "  </thead>\n",
       "  <tbody>\n",
       "    <tr>\n",
       "      <th>0</th>\n",
       "      <td>ritz</td>\n",
       "      <td>2014</td>\n",
       "      <td>3.35</td>\n",
       "      <td>5.59</td>\n",
       "      <td>27000</td>\n",
       "      <td>Petrol</td>\n",
       "      <td>Dealer</td>\n",
       "      <td>Manual</td>\n",
       "      <td>0</td>\n",
       "      <td>7</td>\n",
       "    </tr>\n",
       "    <tr>\n",
       "      <th>1</th>\n",
       "      <td>sx4</td>\n",
       "      <td>2013</td>\n",
       "      <td>4.75</td>\n",
       "      <td>9.54</td>\n",
       "      <td>43000</td>\n",
       "      <td>Diesel</td>\n",
       "      <td>Dealer</td>\n",
       "      <td>Manual</td>\n",
       "      <td>0</td>\n",
       "      <td>8</td>\n",
       "    </tr>\n",
       "    <tr>\n",
       "      <th>2</th>\n",
       "      <td>ciaz</td>\n",
       "      <td>2017</td>\n",
       "      <td>7.25</td>\n",
       "      <td>9.85</td>\n",
       "      <td>6900</td>\n",
       "      <td>Petrol</td>\n",
       "      <td>Dealer</td>\n",
       "      <td>Manual</td>\n",
       "      <td>0</td>\n",
       "      <td>4</td>\n",
       "    </tr>\n",
       "    <tr>\n",
       "      <th>3</th>\n",
       "      <td>wagon r</td>\n",
       "      <td>2011</td>\n",
       "      <td>2.85</td>\n",
       "      <td>4.15</td>\n",
       "      <td>5200</td>\n",
       "      <td>Petrol</td>\n",
       "      <td>Dealer</td>\n",
       "      <td>Manual</td>\n",
       "      <td>0</td>\n",
       "      <td>10</td>\n",
       "    </tr>\n",
       "    <tr>\n",
       "      <th>4</th>\n",
       "      <td>swift</td>\n",
       "      <td>2014</td>\n",
       "      <td>4.60</td>\n",
       "      <td>6.87</td>\n",
       "      <td>42450</td>\n",
       "      <td>Diesel</td>\n",
       "      <td>Dealer</td>\n",
       "      <td>Manual</td>\n",
       "      <td>0</td>\n",
       "      <td>7</td>\n",
       "    </tr>\n",
       "  </tbody>\n",
       "</table>\n",
       "</div>"
      ],
      "text/plain": [
       "  Car_Name  Year  Selling_Price  Present_Price  Kms_Driven Fuel_Type  \\\n",
       "0     ritz  2014           3.35           5.59       27000    Petrol   \n",
       "1      sx4  2013           4.75           9.54       43000    Diesel   \n",
       "2     ciaz  2017           7.25           9.85        6900    Petrol   \n",
       "3  wagon r  2011           2.85           4.15        5200    Petrol   \n",
       "4    swift  2014           4.60           6.87       42450    Diesel   \n",
       "\n",
       "  Seller_Type Transmission  Owner  Year old  \n",
       "0      Dealer       Manual      0         7  \n",
       "1      Dealer       Manual      0         8  \n",
       "2      Dealer       Manual      0         4  \n",
       "3      Dealer       Manual      0        10  \n",
       "4      Dealer       Manual      0         7  "
      ]
     },
     "execution_count": 14,
     "metadata": {},
     "output_type": "execute_result"
    }
   ],
   "source": [
    "df.head(5)"
   ]
  },
  {
   "cell_type": "code",
   "execution_count": 15,
   "metadata": {},
   "outputs": [],
   "source": [
    "# Year is not usefull now\n",
    "# Also car_name is not useful in determining the selling price of the car\n",
    "\n",
    "df = df.drop(['Car_Name','Year'] , axis=1)"
   ]
  },
  {
   "cell_type": "code",
   "execution_count": 16,
   "metadata": {},
   "outputs": [
    {
     "data": {
      "text/html": [
       "<div>\n",
       "<style scoped>\n",
       "    .dataframe tbody tr th:only-of-type {\n",
       "        vertical-align: middle;\n",
       "    }\n",
       "\n",
       "    .dataframe tbody tr th {\n",
       "        vertical-align: top;\n",
       "    }\n",
       "\n",
       "    .dataframe thead th {\n",
       "        text-align: right;\n",
       "    }\n",
       "</style>\n",
       "<table border=\"1\" class=\"dataframe\">\n",
       "  <thead>\n",
       "    <tr style=\"text-align: right;\">\n",
       "      <th></th>\n",
       "      <th>Selling_Price</th>\n",
       "      <th>Present_Price</th>\n",
       "      <th>Kms_Driven</th>\n",
       "      <th>Owner</th>\n",
       "      <th>Year old</th>\n",
       "      <th>Fuel_Type_Diesel</th>\n",
       "      <th>Fuel_Type_Petrol</th>\n",
       "      <th>Seller_Type_Individual</th>\n",
       "      <th>Transmission_Manual</th>\n",
       "    </tr>\n",
       "  </thead>\n",
       "  <tbody>\n",
       "    <tr>\n",
       "      <th>0</th>\n",
       "      <td>3.35</td>\n",
       "      <td>5.59</td>\n",
       "      <td>27000</td>\n",
       "      <td>0</td>\n",
       "      <td>7</td>\n",
       "      <td>0</td>\n",
       "      <td>1</td>\n",
       "      <td>0</td>\n",
       "      <td>1</td>\n",
       "    </tr>\n",
       "    <tr>\n",
       "      <th>1</th>\n",
       "      <td>4.75</td>\n",
       "      <td>9.54</td>\n",
       "      <td>43000</td>\n",
       "      <td>0</td>\n",
       "      <td>8</td>\n",
       "      <td>1</td>\n",
       "      <td>0</td>\n",
       "      <td>0</td>\n",
       "      <td>1</td>\n",
       "    </tr>\n",
       "    <tr>\n",
       "      <th>2</th>\n",
       "      <td>7.25</td>\n",
       "      <td>9.85</td>\n",
       "      <td>6900</td>\n",
       "      <td>0</td>\n",
       "      <td>4</td>\n",
       "      <td>0</td>\n",
       "      <td>1</td>\n",
       "      <td>0</td>\n",
       "      <td>1</td>\n",
       "    </tr>\n",
       "    <tr>\n",
       "      <th>3</th>\n",
       "      <td>2.85</td>\n",
       "      <td>4.15</td>\n",
       "      <td>5200</td>\n",
       "      <td>0</td>\n",
       "      <td>10</td>\n",
       "      <td>0</td>\n",
       "      <td>1</td>\n",
       "      <td>0</td>\n",
       "      <td>1</td>\n",
       "    </tr>\n",
       "    <tr>\n",
       "      <th>4</th>\n",
       "      <td>4.60</td>\n",
       "      <td>6.87</td>\n",
       "      <td>42450</td>\n",
       "      <td>0</td>\n",
       "      <td>7</td>\n",
       "      <td>1</td>\n",
       "      <td>0</td>\n",
       "      <td>0</td>\n",
       "      <td>1</td>\n",
       "    </tr>\n",
       "    <tr>\n",
       "      <th>5</th>\n",
       "      <td>9.25</td>\n",
       "      <td>9.83</td>\n",
       "      <td>2071</td>\n",
       "      <td>0</td>\n",
       "      <td>3</td>\n",
       "      <td>1</td>\n",
       "      <td>0</td>\n",
       "      <td>0</td>\n",
       "      <td>1</td>\n",
       "    </tr>\n",
       "    <tr>\n",
       "      <th>6</th>\n",
       "      <td>6.75</td>\n",
       "      <td>8.12</td>\n",
       "      <td>18796</td>\n",
       "      <td>0</td>\n",
       "      <td>6</td>\n",
       "      <td>0</td>\n",
       "      <td>1</td>\n",
       "      <td>0</td>\n",
       "      <td>1</td>\n",
       "    </tr>\n",
       "    <tr>\n",
       "      <th>7</th>\n",
       "      <td>6.50</td>\n",
       "      <td>8.61</td>\n",
       "      <td>33429</td>\n",
       "      <td>0</td>\n",
       "      <td>6</td>\n",
       "      <td>1</td>\n",
       "      <td>0</td>\n",
       "      <td>0</td>\n",
       "      <td>1</td>\n",
       "    </tr>\n",
       "    <tr>\n",
       "      <th>8</th>\n",
       "      <td>8.75</td>\n",
       "      <td>8.89</td>\n",
       "      <td>20273</td>\n",
       "      <td>0</td>\n",
       "      <td>5</td>\n",
       "      <td>1</td>\n",
       "      <td>0</td>\n",
       "      <td>0</td>\n",
       "      <td>1</td>\n",
       "    </tr>\n",
       "    <tr>\n",
       "      <th>9</th>\n",
       "      <td>7.45</td>\n",
       "      <td>8.92</td>\n",
       "      <td>42367</td>\n",
       "      <td>0</td>\n",
       "      <td>6</td>\n",
       "      <td>1</td>\n",
       "      <td>0</td>\n",
       "      <td>0</td>\n",
       "      <td>1</td>\n",
       "    </tr>\n",
       "  </tbody>\n",
       "</table>\n",
       "</div>"
      ],
      "text/plain": [
       "   Selling_Price  Present_Price  Kms_Driven  Owner  Year old  \\\n",
       "0           3.35           5.59       27000      0         7   \n",
       "1           4.75           9.54       43000      0         8   \n",
       "2           7.25           9.85        6900      0         4   \n",
       "3           2.85           4.15        5200      0        10   \n",
       "4           4.60           6.87       42450      0         7   \n",
       "5           9.25           9.83        2071      0         3   \n",
       "6           6.75           8.12       18796      0         6   \n",
       "7           6.50           8.61       33429      0         6   \n",
       "8           8.75           8.89       20273      0         5   \n",
       "9           7.45           8.92       42367      0         6   \n",
       "\n",
       "   Fuel_Type_Diesel  Fuel_Type_Petrol  Seller_Type_Individual  \\\n",
       "0                 0                 1                       0   \n",
       "1                 1                 0                       0   \n",
       "2                 0                 1                       0   \n",
       "3                 0                 1                       0   \n",
       "4                 1                 0                       0   \n",
       "5                 1                 0                       0   \n",
       "6                 0                 1                       0   \n",
       "7                 1                 0                       0   \n",
       "8                 1                 0                       0   \n",
       "9                 1                 0                       0   \n",
       "\n",
       "   Transmission_Manual  \n",
       "0                    1  \n",
       "1                    1  \n",
       "2                    1  \n",
       "3                    1  \n",
       "4                    1  \n",
       "5                    1  \n",
       "6                    1  \n",
       "7                    1  \n",
       "8                    1  \n",
       "9                    1  "
      ]
     },
     "execution_count": 16,
     "metadata": {},
     "output_type": "execute_result"
    }
   ],
   "source": [
    "# converting categorical features into one-hot encoded features\n",
    "\n",
    "df = pd.get_dummies(df , drop_first=True)\n",
    "\n",
    "df.head(10)"
   ]
  },
  {
   "cell_type": "code",
   "execution_count": 17,
   "metadata": {},
   "outputs": [
    {
     "data": {
      "text/plain": [
       "<matplotlib.axes._subplots.AxesSubplot at 0x280d480efd0>"
      ]
     },
     "execution_count": 17,
     "metadata": {},
     "output_type": "execute_result"
    },
    {
     "data": {
      "image/png": "[encoded data removed]",
      "text/plain": [
       "<Figure size 1080x1080 with 2 Axes>"
      ]
     },
     "metadata": {
      "needs_background": "light"
     },
     "output_type": "display_data"
    }
   ],
   "source": [
    "# Analyzing the corellation between various features\n",
    "\n",
    "corr = df.corr()\n",
    "plt.figure(figsize=(15,15))\n",
    "\n",
    "sns.heatmap(corr, annot=True , cmap='coolwarm')"
   ]
  },
  {
   "cell_type": "markdown",
   "metadata": {},
   "source": [
    "- Selling price is positively correlated with Present price.\n",
    "- Selling price is also getting impacted by the diesel fuel type of vehicles.\n",
    "- Kms driven will be more if the car is more and more old"
   ]
  },
  {
   "cell_type": "code",
   "execution_count": 18,
   "metadata": {},
   "outputs": [],
   "source": [
    "x = df.drop('Selling_Price',axis=1)\n",
    "y = df['Selling_Price']"
   ]
  },
  {
   "cell_type": "code",
   "execution_count": 19,
   "metadata": {},
   "outputs": [
    {
     "data": {
      "text/plain": [
       "ExtraTreesRegressor()"
      ]
     },
     "execution_count": 19,
     "metadata": {},
     "output_type": "execute_result"
    }
   ],
   "source": [
    "# Feature importance\n",
    "\n",
    "from sklearn.ensemble import ExtraTreesRegressor\n",
    "\n",
    "model = ExtraTreesRegressor()\n",
    "\n",
    "model.fit(x,y)"
   ]
  },
  {
   "cell_type": "code",
   "execution_count": 21,
   "metadata": {},
   "outputs": [
    {
     "data": {
      "image/png": "[encoded data removed]",
      "text/plain": [
       "<Figure size 1080x720 with 1 Axes>"
      ]
     },
     "metadata": {
      "needs_background": "light"
     },
     "output_type": "display_data"
    }
   ],
   "source": [
    "feature_imp = model.feature_importances_\n",
    "\n",
    "plt.figure(figsize=(15,10))\n",
    "series = pd.Series(feature_imp,index = x.columns)\n",
    "series.plot(kind='barh')\n",
    "plt.show()"
   ]
  },
  {
   "cell_type": "code",
   "execution_count": 22,
   "metadata": {},
   "outputs": [],
   "source": [
    "# creating a randomforest regressor model\n",
    "# since records are very less so there is a chance to overfit hence we will be using hyperparamter tuning \n",
    "\n",
    "from sklearn.ensemble import RandomForestRegressor\n",
    "from sklearn.model_selection import RandomizedSearchCV,train_test_split"
   ]
  },
  {
   "cell_type": "code",
   "execution_count": 23,
   "metadata": {},
   "outputs": [],
   "source": [
    "x_train,x_test,y_train,y_test = train_test_split(x,y,test_size=0.1,random_state=42)\n",
    "\n",
    "params = {\n",
    "    'n_estimators': [30,50,100,250,500] ,\n",
    "    'max_depth': [5,10,15,20,25] ,\n",
    "    'max_features': ['auto','sqrt'] \n",
    "}"
   ]
  },
  {
   "cell_type": "code",
   "execution_count": 24,
   "metadata": {},
   "outputs": [
    {
     "name": "stdout",
     "output_type": "stream",
     "text": [
      "Fitting 5 folds for each of 10 candidates, totalling 50 fits\n",
      "[CV] n_estimators=500, max_features=sqrt, max_depth=15 ...............\n"
     ]
    },
    {
     "name": "stderr",
     "output_type": "stream",
     "text": [
      "[Parallel(n_jobs=1)]: Using backend SequentialBackend with 1 concurrent workers.\n"
     ]
    },
    {
     "name": "stdout",
     "output_type": "stream",
     "text": [
      "[CV]  n_estimators=500, max_features=sqrt, max_depth=15, score=-4.334, total=   1.2s\n",
      "[CV] n_estimators=500, max_features=sqrt, max_depth=15 ...............\n"
     ]
    },
    {
     "name": "stderr",
     "output_type": "stream",
     "text": [
      "[Parallel(n_jobs=1)]: Done   1 out of   1 | elapsed:    1.1s remaining:    0.0s\n"
     ]
    },
    {
     "name": "stdout",
     "output_type": "stream",
     "text": [
      "[CV]  n_estimators=500, max_features=sqrt, max_depth=15, score=-8.939, total=   1.2s\n",
      "[CV] n_estimators=500, max_features=sqrt, max_depth=15 ...............\n"
     ]
    },
    {
     "name": "stderr",
     "output_type": "stream",
     "text": [
      "[Parallel(n_jobs=1)]: Done   2 out of   2 | elapsed:    2.2s remaining:    0.0s\n"
     ]
    },
    {
     "name": "stdout",
     "output_type": "stream",
     "text": [
      "[CV]  n_estimators=500, max_features=sqrt, max_depth=15, score=-1.118, total=   1.2s\n",
      "[CV] n_estimators=500, max_features=sqrt, max_depth=15 ...............\n",
      "[CV]  n_estimators=500, max_features=sqrt, max_depth=15, score=-3.628, total=   1.2s\n",
      "[CV] n_estimators=500, max_features=sqrt, max_depth=15 ...............\n",
      "[CV]  n_estimators=500, max_features=sqrt, max_depth=15, score=-0.923, total=   1.1s\n",
      "[CV] n_estimators=100, max_features=sqrt, max_depth=15 ...............\n",
      "[CV]  n_estimators=100, max_features=sqrt, max_depth=15, score=-4.299, total=   0.2s\n",
      "[CV] n_estimators=100, max_features=sqrt, max_depth=15 ...............\n",
      "[CV]  n_estimators=100, max_features=sqrt, max_depth=15, score=-9.747, total=   0.2s\n",
      "[CV] n_estimators=100, max_features=sqrt, max_depth=15 ...............\n",
      "[CV]  n_estimators=100, max_features=sqrt, max_depth=15, score=-1.626, total=   0.2s\n",
      "[CV] n_estimators=100, max_features=sqrt, max_depth=15 ...............\n",
      "[CV]  n_estimators=100, max_features=sqrt, max_depth=15, score=-3.609, total=   0.2s\n",
      "[CV] n_estimators=100, max_features=sqrt, max_depth=15 ...............\n",
      "[CV]  n_estimators=100, max_features=sqrt, max_depth=15, score=-0.844, total=   0.2s\n",
      "[CV] n_estimators=250, max_features=sqrt, max_depth=20 ...............\n",
      "[CV]  n_estimators=250, max_features=sqrt, max_depth=20, score=-4.182, total=   0.6s\n",
      "[CV] n_estimators=250, max_features=sqrt, max_depth=20 ...............\n",
      "[CV]  n_estimators=250, max_features=sqrt, max_depth=20, score=-9.476, total=   0.6s\n",
      "[CV] n_estimators=250, max_features=sqrt, max_depth=20 ...............\n",
      "[CV]  n_estimators=250, max_features=sqrt, max_depth=20, score=-1.351, total=   0.6s\n",
      "[CV] n_estimators=250, max_features=sqrt, max_depth=20 ...............\n",
      "[CV]  n_estimators=250, max_features=sqrt, max_depth=20, score=-3.584, total=   0.7s\n",
      "[CV] n_estimators=250, max_features=sqrt, max_depth=20 ...............\n",
      "[CV]  n_estimators=250, max_features=sqrt, max_depth=20, score=-0.962, total=   0.6s\n",
      "[CV] n_estimators=500, max_features=auto, max_depth=15 ...............\n",
      "[CV]  n_estimators=500, max_features=auto, max_depth=15, score=-1.309, total=   1.3s\n",
      "[CV] n_estimators=500, max_features=auto, max_depth=15 ...............\n",
      "[CV]  n_estimators=500, max_features=auto, max_depth=15, score=-4.499, total=   1.3s\n",
      "[CV] n_estimators=500, max_features=auto, max_depth=15 ...............\n",
      "[CV]  n_estimators=500, max_features=auto, max_depth=15, score=-2.160, total=   1.4s\n",
      "[CV] n_estimators=500, max_features=auto, max_depth=15 ...............\n",
      "[CV]  n_estimators=500, max_features=auto, max_depth=15, score=-2.689, total=   1.3s\n",
      "[CV] n_estimators=500, max_features=auto, max_depth=15 ...............\n",
      "[CV]  n_estimators=500, max_features=auto, max_depth=15, score=-1.283, total=   1.3s\n",
      "[CV] n_estimators=100, max_features=auto, max_depth=25 ...............\n",
      "[CV]  n_estimators=100, max_features=auto, max_depth=25, score=-1.511, total=   0.3s\n",
      "[CV] n_estimators=100, max_features=auto, max_depth=25 ...............\n",
      "[CV]  n_estimators=100, max_features=auto, max_depth=25, score=-3.537, total=   0.3s\n",
      "[CV] n_estimators=100, max_features=auto, max_depth=25 ...............\n",
      "[CV]  n_estimators=100, max_features=auto, max_depth=25, score=-2.726, total=   0.3s\n",
      "[CV] n_estimators=100, max_features=auto, max_depth=25 ...............\n",
      "[CV]  n_estimators=100, max_features=auto, max_depth=25, score=-2.589, total=   0.3s\n",
      "[CV] n_estimators=100, max_features=auto, max_depth=25 ...............\n",
      "[CV]  n_estimators=100, max_features=auto, max_depth=25, score=-1.218, total=   0.3s\n",
      "[CV] n_estimators=50, max_features=sqrt, max_depth=5 .................\n",
      "[CV]  n_estimators=50, max_features=sqrt, max_depth=5, score=-5.531, total=   0.1s\n",
      "[CV] n_estimators=50, max_features=sqrt, max_depth=5 .................\n",
      "[CV]  n_estimators=50, max_features=sqrt, max_depth=5, score=-10.591, total=   0.1s\n",
      "[CV] n_estimators=50, max_features=sqrt, max_depth=5 .................\n",
      "[CV]  n_estimators=50, max_features=sqrt, max_depth=5, score=-1.849, total=   0.1s\n",
      "[CV] n_estimators=50, max_features=sqrt, max_depth=5 .................\n",
      "[CV]  n_estimators=50, max_features=sqrt, max_depth=5, score=-4.590, total=   0.1s\n",
      "[CV] n_estimators=50, max_features=sqrt, max_depth=5 .................\n",
      "[CV]  n_estimators=50, max_features=sqrt, max_depth=5, score=-1.557, total=   0.1s\n",
      "[CV] n_estimators=30, max_features=sqrt, max_depth=20 ................\n",
      "[CV]  n_estimators=30, max_features=sqrt, max_depth=20, score=-4.708, total=   0.1s\n",
      "[CV] n_estimators=30, max_features=sqrt, max_depth=20 ................\n",
      "[CV]  n_estimators=30, max_features=sqrt, max_depth=20, score=-10.841, total=   0.1s\n",
      "[CV] n_estimators=30, max_features=sqrt, max_depth=20 ................\n",
      "[CV]  n_estimators=30, max_features=sqrt, max_depth=20, score=-1.522, total=   0.1s\n",
      "[CV] n_estimators=30, max_features=sqrt, max_depth=20 ................\n",
      "[CV]  n_estimators=30, max_features=sqrt, max_depth=20, score=-3.447, total=   0.1s\n",
      "[CV] n_estimators=30, max_features=sqrt, max_depth=20 ................\n",
      "[CV]  n_estimators=30, max_features=sqrt, max_depth=20, score=-1.169, total=   0.1s\n",
      "[CV] n_estimators=30, max_features=sqrt, max_depth=15 ................\n",
      "[CV]  n_estimators=30, max_features=sqrt, max_depth=15, score=-4.451, total=   0.1s\n",
      "[CV] n_estimators=30, max_features=sqrt, max_depth=15 ................\n",
      "[CV]  n_estimators=30, max_features=sqrt, max_depth=15, score=-9.986, total=   0.1s\n",
      "[CV] n_estimators=30, max_features=sqrt, max_depth=15 ................\n",
      "[CV]  n_estimators=30, max_features=sqrt, max_depth=15, score=-2.105, total=   0.1s\n",
      "[CV] n_estimators=30, max_features=sqrt, max_depth=15 ................\n",
      "[CV]  n_estimators=30, max_features=sqrt, max_depth=15, score=-3.682, total=   0.1s\n",
      "[CV] n_estimators=30, max_features=sqrt, max_depth=15 ................\n",
      "[CV]  n_estimators=30, max_features=sqrt, max_depth=15, score=-1.152, total=   0.1s\n",
      "[CV] n_estimators=500, max_features=auto, max_depth=25 ...............\n",
      "[CV]  n_estimators=500, max_features=auto, max_depth=25, score=-1.362, total=   1.3s\n",
      "[CV] n_estimators=500, max_features=auto, max_depth=25 ...............\n",
      "[CV]  n_estimators=500, max_features=auto, max_depth=25, score=-4.514, total=   1.4s\n",
      "[CV] n_estimators=500, max_features=auto, max_depth=25 ...............\n",
      "[CV]  n_estimators=500, max_features=auto, max_depth=25, score=-2.201, total=   1.3s\n",
      "[CV] n_estimators=500, max_features=auto, max_depth=25 ...............\n",
      "[CV]  n_estimators=500, max_features=auto, max_depth=25, score=-2.704, total=   1.3s\n",
      "[CV] n_estimators=500, max_features=auto, max_depth=25 ...............\n",
      "[CV]  n_estimators=500, max_features=auto, max_depth=25, score=-1.224, total=   1.4s\n",
      "[CV] n_estimators=100, max_features=sqrt, max_depth=10 ...............\n",
      "[CV]  n_estimators=100, max_features=sqrt, max_depth=10, score=-4.540, total=   0.3s\n",
      "[CV] n_estimators=100, max_features=sqrt, max_depth=10 ...............\n",
      "[CV]  n_estimators=100, max_features=sqrt, max_depth=10, score=-10.107, total=   0.4s\n",
      "[CV] n_estimators=100, max_features=sqrt, max_depth=10 ...............\n",
      "[CV]  n_estimators=100, max_features=sqrt, max_depth=10, score=-0.876, total=   0.3s\n",
      "[CV] n_estimators=100, max_features=sqrt, max_depth=10 ...............\n",
      "[CV]  n_estimators=100, max_features=sqrt, max_depth=10, score=-3.412, total=   0.3s\n",
      "[CV] n_estimators=100, max_features=sqrt, max_depth=10 ...............\n",
      "[CV]  n_estimators=100, max_features=sqrt, max_depth=10, score=-1.150, total=   0.3s\n"
     ]
    },
    {
     "name": "stderr",
     "output_type": "stream",
     "text": [
      "[Parallel(n_jobs=1)]: Done  50 out of  50 | elapsed:   27.8s finished\n"
     ]
    },
    {
     "data": {
      "text/plain": [
       "RandomizedSearchCV(cv=5, estimator=RandomForestRegressor(),\n",
       "                   param_distributions={'max_depth': [5, 10, 15, 20, 25],\n",
       "                                        'max_features': ['auto', 'sqrt'],\n",
       "                                        'n_estimators': [30, 50, 100, 250,\n",
       "                                                         500]},\n",
       "                   scoring='neg_mean_squared_error', verbose=3)"
      ]
     },
     "execution_count": 24,
     "metadata": {},
     "output_type": "execute_result"
    }
   ],
   "source": [
    "clf = RandomForestRegressor()\n",
    "\n",
    "model = RandomizedSearchCV(clf,param_distributions=params,cv=5,n_iter=10,\n",
    "                           scoring='neg_mean_squared_error' , verbose=3)\n",
    "\n",
    "model.fit(x_train,y_train)"
   ]
  },
  {
   "cell_type": "code",
   "execution_count": 25,
   "metadata": {},
   "outputs": [],
   "source": [
    "y_pred = model.predict(x_test)"
   ]
  },
  {
   "cell_type": "code",
   "execution_count": 29,
   "metadata": {},
   "outputs": [
    {
     "name": "stdout",
     "output_type": "stream",
     "text": [
      "0.25911497774193587\n"
     ]
    },
    {
     "data": {
      "text/plain": [
       "<matplotlib.axes._subplots.AxesSubplot at 0x280de313f70>"
      ]
     },
     "execution_count": 29,
     "metadata": {},
     "output_type": "execute_result"
    },
    {
     "data": {
      "image/png": "[encoded data removed]",
      "text/plain": [
       "<Figure size 432x288 with 1 Axes>"
      ]
     },
     "metadata": {
      "needs_background": "light"
     },
     "output_type": "display_data"
    }
   ],
   "source": [
    "# Evaluating our performance\n",
    "from sklearn.metrics import mean_squared_error\n",
    "print(mean_squared_error(y_test,y_pred))\n",
    "\n",
    "sns.distplot(y_test-y_pred)"
   ]
  },
  {
   "cell_type": "code",
   "execution_count": 27,
   "metadata": {},
   "outputs": [
    {
     "data": {
      "text/plain": [
       "<matplotlib.axes._subplots.AxesSubplot at 0x280dcdd8880>"
      ]
     },
     "execution_count": 27,
     "metadata": {},
     "output_type": "execute_result"
    },
    {
     "data": {
      "image/png": "[encoded data removed]",
      "text/plain": [
       "<Figure size 432x288 with 1 Axes>"
      ]
     },
     "metadata": {
      "needs_background": "light"
     },
     "output_type": "display_data"
    }
   ],
   "source": [
    "sns.scatterplot(y_test,y_pred)"
   ]
  },
  {
   "cell_type": "markdown",
   "metadata": {},
   "source": [
    "- So it can be seen that our prediction is pretty much good"
   ]
  },
  {
   "cell_type": "code",
   "execution_count": 30,
   "metadata": {},
   "outputs": [],
   "source": [
    "# dumping our model to a pickel file\n",
    "import pickle\n",
    "\n",
    "file = open('model.pkl' , 'wb')\n",
    "pickle.dump(model , file)"
   ]
  },
  {
   "cell_type": "code",
   "execution_count": null,
   "metadata": {},
   "outputs": [],
   "source": []
  }
 ],
 "metadata": {
  "kernelspec": {
   "display_name": "Python 3",
   "language": "python",
   "name": "python3"
  },
  "language_info": {
   "codemirror_mode": {
    "name": "ipython",
    "version": 3
   },
   "file_extension": ".py",
   "mimetype": "text/x-python",
   "name": "python",
   "nbconvert_exporter": "python",
   "pygments_lexer": "ipython3",
   "version": "3.8.3"
  }
 },
 "nbformat": 4,
 "nbformat_minor": 4
}
